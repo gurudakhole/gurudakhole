{
 "cells": [
  {
   "cell_type": "markdown",
   "id": "4884b895",
   "metadata": {},
   "source": [
    "1. In the below elements which of them are values or an expression? eg:- values can be integer or string and expressions will be mathematical operators."
   ]
  },
  {
   "cell_type": "code",
   "execution_count": 2,
   "id": "c8b547ab",
   "metadata": {},
   "outputs": [],
   "source": [
    "#    * = expression     \n",
    "#   'hello' = vaue    \n",
    "#    -87.8 = value    \n",
    "#    - = expression    \n",
    "#    / = expression     \n",
    "#    + = expression    \n",
    "#    6 = value    \n"
   ]
  },
  {
   "cell_type": "markdown",
   "id": "82922e67",
   "metadata": {},
   "source": [
    "2. What is the difference between string and variable?"
   ]
  },
  {
   "cell_type": "code",
   "execution_count": 11,
   "id": "10067b25",
   "metadata": {},
   "outputs": [],
   "source": [
    "#    String is one of the data type in python. String data type is distinguished from other data type \n",
    "#    by quoting the data into single quote or double quotes.\n",
    "#    variable is something to which we assign value of any data type.\n",
    "#    main difference between string and variable is string is quoted between single quote or double quote \n",
    "#    and variable is not quoted, it is assigned to some value.\n",
    "\n",
    "#    example - \n",
    "\n",
    "#    name = \"Guru\"\n",
    "\n",
    "#    here (name is variable) and (\"Guru\" is string) \n"
   ]
  },
  {
   "cell_type": "markdown",
   "id": "c0c1fe97",
   "metadata": {},
   "source": [
    "3. Describe three different data types."
   ]
  },
  {
   "cell_type": "code",
   "execution_count": null,
   "id": "ddb16ee7",
   "metadata": {},
   "outputs": [],
   "source": [
    "#    1. String = Strings are sequence of character. Strings are quoted between single or double quotes.\n",
    "#    2. Numeric = Any numeric data such as integer, non integer, positive or negative are of numeric data type.\n",
    "#                 Types of numeric data - Integer, Float and Complex.\n",
    "#    3. Boolean = True and False are boolean type of data.\n"
   ]
  },
  {
   "cell_type": "markdown",
   "id": "59c6be74",
   "metadata": {},
   "source": [
    "4. What is an expression made up of? What do all expressions do?"
   ]
  },
  {
   "cell_type": "code",
   "execution_count": 4,
   "id": "de0acea8",
   "metadata": {},
   "outputs": [],
   "source": [
    "#    Expressions are made of special characters or symbols such as '*', '/', '-', '+', '%'\n",
    "#    Expressions are for performing mathematical operations.\n",
    "#    + used for addition\n",
    "#    - used for subtraction\n",
    "#    * used for multiplication\n",
    "#    / used for division\n",
    "#    % used for used for finding remainder \n",
    "#    ** used for squaring \n",
    "#    = used for assigning a value to a variable \n",
    "#    == used to check if true \n"
   ]
  },
  {
   "cell_type": "markdown",
   "id": "146c315f",
   "metadata": {},
   "source": [
    "5. This assignment statements, like spam = 10. What is the difference between an expression and a statement?"
   ]
  },
  {
   "cell_type": "code",
   "execution_count": 5,
   "id": "e8e8cbff",
   "metadata": {},
   "outputs": [],
   "source": [
    "#    Expressions are for performing some operations.\n",
    "#    An expression helps in assigning value to a variable.\n",
    "#    Statement is sequencial set of character in a logical way in order to make a code."
   ]
  },
  {
   "cell_type": "markdown",
   "id": "257423a4",
   "metadata": {},
   "source": [
    "6. After running the following code, what does the variable bacon contain?  \n",
    "bacon = 22,   \n",
    "bacon + 1"
   ]
  },
  {
   "cell_type": "code",
   "execution_count": 7,
   "id": "f7681a39",
   "metadata": {},
   "outputs": [
    {
     "data": {
      "text/plain": [
       "22"
      ]
     },
     "execution_count": 7,
     "metadata": {},
     "output_type": "execute_result"
    }
   ],
   "source": [
    "bacon = 22\n",
    "bacon + 1\n",
    "bacon\n",
    "\n",
    "# bacon contains 22 only"
   ]
  },
  {
   "cell_type": "markdown",
   "id": "d98ce0ec",
   "metadata": {},
   "source": [
    "7. What should the values of the following two terms be?  \n",
    "'spam' + 'spamspam',  \n",
    "'spam' * 3"
   ]
  },
  {
   "cell_type": "code",
   "execution_count": 8,
   "id": "6857f15b",
   "metadata": {},
   "outputs": [
    {
     "data": {
      "text/plain": [
       "'spamspamspam'"
      ]
     },
     "execution_count": 8,
     "metadata": {},
     "output_type": "execute_result"
    }
   ],
   "source": [
    "'spam' + 'spamspam'"
   ]
  },
  {
   "cell_type": "code",
   "execution_count": 9,
   "id": "3de638e1",
   "metadata": {},
   "outputs": [
    {
     "data": {
      "text/plain": [
       "'spamspamspam'"
      ]
     },
     "execution_count": 9,
     "metadata": {},
     "output_type": "execute_result"
    }
   ],
   "source": [
    "'spam' * 3"
   ]
  },
  {
   "cell_type": "markdown",
   "id": "2a1bbabf",
   "metadata": {},
   "source": [
    "8. Why is eggs a valid variable name while 100 is invalid?"
   ]
  },
  {
   "cell_type": "code",
   "execution_count": 10,
   "id": "20daef48",
   "metadata": {},
   "outputs": [],
   "source": [
    "#    Because a variable should never start with a number or any special character. A variable cannot be a numeric value."
   ]
  },
  {
   "cell_type": "markdown",
   "id": "0dad8094",
   "metadata": {},
   "source": [
    "9. What three functions can be used to get the integer, floating-point number, or string version of a value?"
   ]
  },
  {
   "cell_type": "code",
   "execution_count": 9,
   "id": "4a487500",
   "metadata": {},
   "outputs": [],
   "source": [
    "#    int function is used to get integer version of a value.\n",
    "#    float function is used to get float-point number version of a value.\n",
    "#    str function is used to get string version of a value."
   ]
  },
  {
   "cell_type": "markdown",
   "id": "bc4e2867",
   "metadata": {},
   "source": [
    "10. Why does this expression cause an error? How can you fix it?    \n",
    "'I have eaten ' + 99 + ' burritos.'"
   ]
  },
  {
   "cell_type": "code",
   "execution_count": 7,
   "id": "29beca21",
   "metadata": {},
   "outputs": [],
   "source": [
    "#    This expression cause an error because concadination occurs between same data type, string value can be added with string only and numeric value can be added with numeric only."
   ]
  },
  {
   "cell_type": "code",
   "execution_count": 8,
   "id": "e89f4fb5",
   "metadata": {},
   "outputs": [
    {
     "data": {
      "text/plain": [
       "'I have eaten 99 burritos.'"
      ]
     },
     "execution_count": 8,
     "metadata": {},
     "output_type": "execute_result"
    }
   ],
   "source": [
    "# How to fix it\n",
    "# by converting numeric value into string \n",
    "'I have eaten ' + '99' + ' burritos.'"
   ]
  }
 ],
 "metadata": {
  "kernelspec": {
   "display_name": "Python 3 (ipykernel)",
   "language": "python",
   "name": "python3"
  },
  "language_info": {
   "codemirror_mode": {
    "name": "ipython",
    "version": 3
   },
   "file_extension": ".py",
   "mimetype": "text/x-python",
   "name": "python",
   "nbconvert_exporter": "python",
   "pygments_lexer": "ipython3",
   "version": "3.11.3"
  }
 },
 "nbformat": 4,
 "nbformat_minor": 5
}
